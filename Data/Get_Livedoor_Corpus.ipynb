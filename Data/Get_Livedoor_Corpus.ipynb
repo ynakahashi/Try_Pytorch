{
 "cells": [
  {
   "cell_type": "code",
   "execution_count": 1,
   "metadata": {},
   "outputs": [],
   "source": [
    "import os\n",
    "import pandas as pd"
   ]
  },
  {
   "cell_type": "code",
   "execution_count": 2,
   "metadata": {},
   "outputs": [],
   "source": [
    "#ファイルの読み込み、及びタイトル・本文データの取得\n",
    "path_list = [\"dokujo-tsushin\", \"it-life-hack\", \"kaden-channel\", \"livedoor-homme\", \"movie-enter\", \"peachy\", \"smax\", \"sports-watch\", \"topic-news\"]\n",
    "w_list = []\n",
    "labels = []"
   ]
  },
  {
   "cell_type": "code",
   "execution_count": 3,
   "metadata": {},
   "outputs": [],
   "source": [
    "for p_list in path_list:\n",
    "    path = \"../../R_Snippet/Data/Livedoor_Corpus/\" + p_list\n",
    "    #ディレクトリ内の全ファイル名を取得\n",
    "    f_list = os.listdir(path)\n",
    "\n",
    "    for lists in f_list:\n",
    "        with open(path + \"/\" + lists, encoding = \"utf-8_sig\") as f:\n",
    "            next(f)\n",
    "            next(f)\n",
    "            #全角スペースや改行の削除\n",
    "            w = f.read().replace('\\u3000','').replace('\\n','')\n",
    "            \n",
    "            # wとlabelをまとめて書き出す用\n",
    "            w = [p_list, w]\n",
    "            w_list.append(w)\n",
    "            \n",
    "            # wとlabelを別々に書き出す用\n",
    "            # w_list.append(w)\n",
    "            # labels.append(path_list.index(p_list))"
   ]
  },
  {
   "cell_type": "code",
   "execution_count": 4,
   "metadata": {},
   "outputs": [],
   "source": [
    "# w_list[0]"
   ]
  },
  {
   "cell_type": "code",
   "execution_count": 5,
   "metadata": {},
   "outputs": [],
   "source": [
    "df = pd.DataFrame(w_list, columns=[\"Label\", \"Text\"])"
   ]
  },
  {
   "cell_type": "code",
   "execution_count": 6,
   "metadata": {},
   "outputs": [],
   "source": [
    "# df.head()"
   ]
  },
  {
   "cell_type": "code",
   "execution_count": 7,
   "metadata": {},
   "outputs": [],
   "source": [
    "# df.size"
   ]
  },
  {
   "cell_type": "code",
   "execution_count": 8,
   "metadata": {},
   "outputs": [],
   "source": [
    "df.to_csv(\"Livedoor_Corpus_Text.csv\", index = False)"
   ]
  }
 ],
 "metadata": {
  "kernelspec": {
   "display_name": "Python 3",
   "language": "python",
   "name": "python3"
  },
  "language_info": {
   "codemirror_mode": {
    "name": "ipython",
    "version": 3
   },
   "file_extension": ".py",
   "mimetype": "text/x-python",
   "name": "python",
   "nbconvert_exporter": "python",
   "pygments_lexer": "ipython3",
   "version": "3.6.4"
  }
 },
 "nbformat": 4,
 "nbformat_minor": 2
}
