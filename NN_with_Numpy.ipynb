{
 "cells": [
  {
   "cell_type": "markdown",
   "metadata": {},
   "source": [
    "# Follow Pytorch tutorial\n",
    "### @ynakahashi\n",
    "https://pytorch.org/tutorials/beginner/pytorch_with_examples.html"
   ]
  },
  {
   "cell_type": "markdown",
   "metadata": {},
   "source": [
    "### Check if Pytorch installed successfully"
   ]
  },
  {
   "cell_type": "code",
   "execution_count": 1,
   "metadata": {},
   "outputs": [
    {
     "name": "stdout",
     "output_type": "stream",
     "text": [
      "tensor([[0.3697, 0.0752, 0.2495],\n",
      "        [0.8384, 0.4823, 0.6044],\n",
      "        [0.7927, 0.1480, 0.1887],\n",
      "        [0.7771, 0.4499, 0.5243],\n",
      "        [0.2047, 0.3021, 0.2499]])\n"
     ]
    }
   ],
   "source": [
    "from __future__ import print_function\n",
    "import torch\n",
    "x = torch.rand(5, 3)\n",
    "print(x)"
   ]
  },
  {
   "cell_type": "markdown",
   "metadata": {},
   "source": [
    "### Neural Network with Numpy"
   ]
  },
  {
   "cell_type": "code",
   "execution_count": 2,
   "metadata": {},
   "outputs": [],
   "source": [
    "# -*- coding: utf-8 -*-\n",
    "import numpy as np"
   ]
  },
  {
   "cell_type": "code",
   "execution_count": 3,
   "metadata": {},
   "outputs": [],
   "source": [
    "# N is batch size; D_in is input dimension;\n",
    "# H is hidden dimension; D_out is output dimension.\n",
    "# N, D_in, H, D_out = 64, 1000, 100, 10\n",
    "\n",
    "# N is batch size\n",
    "N = 64\n",
    "\n",
    "# D_in is input dimension\n",
    "D_in = 1000\n",
    "\n",
    "# H is hidden dimension\n",
    "H = 100\n",
    "\n",
    "# D_out is output dimension.\n",
    "D_out = 10"
   ]
  },
  {
   "cell_type": "code",
   "execution_count": 4,
   "metadata": {},
   "outputs": [],
   "source": [
    "# Create random input and output data\n",
    "np.random.seed(123)\n",
    "x = np.random.randn(N, D_in)\n",
    "y = np.random.randn(N, D_out)\n",
    "\n",
    "# Randomly initialize weights\n",
    "w1 = np.random.randn(D_in, H)\n",
    "w2 = np.random.randn(H, D_out)"
   ]
  },
  {
   "cell_type": "code",
   "execution_count": null,
   "metadata": {},
   "outputs": [],
   "source": [
    "# # Forward pass: compute predicted y\n",
    "# h = x.dot(w1) # 内積を求めて\n",
    "# h_relu = np.maximum(h, 0) # ReLUをかけて\n",
    "# y_pred = h_relu.dot(w2) # 再び内積を求める\n",
    "\n",
    "# # Compute and print loss\n",
    "# loss = np.square(y_pred - y).sum() # 誤差の二乗和\n",
    "# print(t, loss) # t回目における誤差の二乗和\n",
    "\n",
    "# # Backprop to compute gradients of w1 and w2 with respect to loss\n",
    "# grad_y_pred = 2.0 * (y_pred - y) #  誤差の二倍\n",
    "# grad_w2 = h_relu.T.dot(grad_y_pred) # 中間層を予測誤差に乗じる\n",
    "# grad_h_relu = grad_y_pred.dot(w2.T) # 予測誤差を出力層の重みに乗じる\n",
    "# grad_h = grad_h_relu.copy() # コピーして\n",
    "# grad_h[h < 0] = 0 # 予測誤差と出力層の重みとの内積が0より小さいものを0とする\n",
    "# grad_w1 = x.T.dot(grad_h) # 入力と乗じる\n",
    "\n",
    "# # Update weights\n",
    "# w1 -= learning_rate * grad_w1\n",
    "# w2 -= learning_rate * grad_w2"
   ]
  },
  {
   "cell_type": "code",
   "execution_count": 5,
   "metadata": {},
   "outputs": [],
   "source": [
    "# # Forward pass: compute predicted y\n",
    "h = x.dot(w1) # 内積を求めて\n",
    "h_relu = np.maximum(h, 0) # ReLUをかけて\n",
    "y_pred = h_relu.dot(w2) # 再び内積を求める"
   ]
  },
  {
   "cell_type": "code",
   "execution_count": 6,
   "metadata": {},
   "outputs": [
    {
     "data": {
      "text/plain": [
       "(64, 100)"
      ]
     },
     "execution_count": 6,
     "metadata": {},
     "output_type": "execute_result"
    }
   ],
   "source": [
    "h.shape"
   ]
  },
  {
   "cell_type": "code",
   "execution_count": null,
   "metadata": {},
   "outputs": [],
   "source": [
    "learning_rate = 1e-6\n",
    "for t in range(500):\n",
    "    \n",
    "    # Forward pass: compute predicted y\n",
    "    h = x.dot(w1) # 内積を求めて\n",
    "    h_relu = np.maximum(h, 0) # ReLUをかけて\n",
    "    y_pred = h_relu.dot(w2) # 再び内積を求める\n",
    "\n",
    "    # Compute and print loss\n",
    "    loss = np.square(y_pred - y).sum() # 誤差の二乗和\n",
    "    print(\"round %s and it's Loss is: %f\" % (t, loss)) # t回目における誤差の二乗和\n",
    "\n",
    "    # Backprop to compute gradients of w1 and w2 with respect to loss\n",
    "    grad_y_pred = 2.0 * (y_pred - y) #  誤差の二倍\n",
    "    grad_w2 = h_relu.T.dot(grad_y_pred) # \n",
    "    grad_h_relu = grad_y_pred.dot(w2.T)\n",
    "    grad_h = grad_h_relu.copy()\n",
    "    grad_h[h < 0] = 0\n",
    "    grad_w1 = x.T.dot(grad_h)\n",
    "\n",
    "    # Update weights\n",
    "    w1 -= learning_rate * grad_w1\n",
    "    w2 -= learning_rate * grad_w2"
   ]
  }
 ],
 "metadata": {
  "kernelspec": {
   "display_name": "Python 3",
   "language": "python",
   "name": "python3"
  },
  "language_info": {
   "codemirror_mode": {
    "name": "ipython",
    "version": 3
   },
   "file_extension": ".py",
   "mimetype": "text/x-python",
   "name": "python",
   "nbconvert_exporter": "python",
   "pygments_lexer": "ipython3",
   "version": "3.6.4"
  }
 },
 "nbformat": 4,
 "nbformat_minor": 2
}
